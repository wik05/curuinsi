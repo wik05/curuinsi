{
 "cells": [
  {
   "cell_type": "code",
   "execution_count": 1,
   "id": "13f63dc4",
   "metadata": {},
   "outputs": [
    {
     "ename": "SyntaxError",
     "evalue": "invalid syntax (2494350585.py, line 1)",
     "output_type": "error",
     "traceback": [
      "\u001b[0;36m  File \u001b[0;32m\"/var/folders/2f/7lh0yqtj72nfyvd814tj9wnh0000gs/T/ipykernel_1587/2494350585.py\"\u001b[0;36m, line \u001b[0;32m1\u001b[0m\n\u001b[0;31m    import\u001b[0m\n\u001b[0m           ^\u001b[0m\n\u001b[0;31mSyntaxError\u001b[0m\u001b[0;31m:\u001b[0m invalid syntax\n"
     ]
    }
   ],
   "source": []
  },
  {
   "cell_type": "markdown",
   "id": "0eff2049",
   "metadata": {},
   "source": [
    "### Files to load\n",
    "\n",
    "| Acronym      | Source | Langage     |\n",
    "| :---         |    :----:   |          ---: |\n",
    "|TS_DIC  |dictionnary | Tikuna-Spanish |\n",
    "|LLB_NEW |New Testament La Ligua Biblica |Tikuna|\n",
    "|LLB_OLD |Old Testament La Ligua Biblica |Tikuna|\n",
    "|T_Ebible|Ebible |Tikuna|\n",
    "|S_Ebible|EBible| Spanish|\n",
    "|T_OHCR  |Universal Declaration Of Human Rights | Tikuna|\n",
    "|S_OHCR  |Universal Declaration Of Human Rights  |Spanish|\n",
    "|T_CRU  |Crubadan Synsets  |Tikuna|\n",
    "\n",
    "* Ebible not converted in TXT for now"
   ]
  },
  {
   "cell_type": "code",
   "execution_count": null,
   "id": "1f67fe29",
   "metadata": {},
   "outputs": [],
   "source": [
    "ts_dic = open(\"ts_dic.txt\", \"r\")\n",
    "llb_new = open(\"llb_new.txt\", \"r\")\n",
    "llb_old = open(\"llb_old.txt\", \"r\")\n",
    "t_ohcr = open(\"t_ohcr.txt\", \"r\")\n",
    "t_cru  = open('t_cru.txt')\n",
    "\n"
   ]
  }
 ],
 "metadata": {
  "kernelspec": {
   "display_name": "Python 3 (ipykernel)",
   "language": "python",
   "name": "python3"
  },
  "language_info": {
   "codemirror_mode": {
    "name": "ipython",
    "version": 3
   },
   "file_extension": ".py",
   "mimetype": "text/x-python",
   "name": "python",
   "nbconvert_exporter": "python",
   "pygments_lexer": "ipython3",
   "version": "3.9.7"
  }
 },
 "nbformat": 4,
 "nbformat_minor": 5
}
