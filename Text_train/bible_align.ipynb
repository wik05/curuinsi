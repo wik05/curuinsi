{
 "cells": [
  {
   "cell_type": "code",
   "execution_count": 2,
   "id": "13f63dc4",
   "metadata": {},
   "outputs": [],
   "source": [
    "import re"
   ]
  },
  {
   "cell_type": "markdown",
   "id": "0eff2049",
   "metadata": {},
   "source": [
    "### Files to load\n",
    "\n",
    "| Acronym      | Source | Langage     |\n",
    "| :---         |    :----:   |          ---: |\n",
    "|TS_DIC  |dictionnary | Tikuna-Spanish |\n",
    "|LLB_NEW |New Testament La Ligua Biblica |Tikuna|\n",
    "|LLB_OLD |Old Testament La Ligua Biblica |Tikuna|\n",
    "|T_Ebible|Ebible |Tikuna|\n",
    "|S_Ebible|EBible| Spanish|\n",
    "|T_OHCR  |Universal Declaration Of Human Rights | Tikuna|\n",
    "|S_OHCR  |Universal Declaration Of Human Rights  |Spanish|\n",
    "|T_CRU  |Crubadan Synsets  |Tikuna|\n",
    "\n",
    "* Ebible not converted in TXT for now"
   ]
  },
  {
   "cell_type": "code",
   "execution_count": 1,
   "id": "1f67fe29",
   "metadata": {},
   "outputs": [
    {
     "ename": "FileNotFoundError",
     "evalue": "[Errno 2] No such file or directory: 'ts_dic.txt'",
     "output_type": "error",
     "traceback": [
      "\u001b[0;31m---------------------------------------------------------------------------\u001b[0m",
      "\u001b[0;31mFileNotFoundError\u001b[0m                         Traceback (most recent call last)",
      "\u001b[0;32m/var/folders/2f/7lh0yqtj72nfyvd814tj9wnh0000gs/T/ipykernel_4964/4048540901.py\u001b[0m in \u001b[0;36m<module>\u001b[0;34m\u001b[0m\n\u001b[0;32m----> 1\u001b[0;31m \u001b[0mts_dic\u001b[0m \u001b[0;34m=\u001b[0m \u001b[0mopen\u001b[0m\u001b[0;34m(\u001b[0m\u001b[0;34m\"ts_dic.txt\"\u001b[0m\u001b[0;34m,\u001b[0m \u001b[0;34m\"r\"\u001b[0m\u001b[0;34m)\u001b[0m\u001b[0;34m\u001b[0m\u001b[0;34m\u001b[0m\u001b[0m\n\u001b[0m\u001b[1;32m      2\u001b[0m \u001b[0mllb_new\u001b[0m \u001b[0;34m=\u001b[0m \u001b[0mopen\u001b[0m\u001b[0;34m(\u001b[0m\u001b[0;34m\"llb_new.txt\"\u001b[0m\u001b[0;34m,\u001b[0m \u001b[0;34m\"r\"\u001b[0m\u001b[0;34m)\u001b[0m\u001b[0;34m\u001b[0m\u001b[0;34m\u001b[0m\u001b[0m\n\u001b[1;32m      3\u001b[0m \u001b[0mllb_old\u001b[0m \u001b[0;34m=\u001b[0m \u001b[0mopen\u001b[0m\u001b[0;34m(\u001b[0m\u001b[0;34m\"llb_old.txt\"\u001b[0m\u001b[0;34m,\u001b[0m \u001b[0;34m\"r\"\u001b[0m\u001b[0;34m)\u001b[0m\u001b[0;34m\u001b[0m\u001b[0;34m\u001b[0m\u001b[0m\n\u001b[1;32m      4\u001b[0m \u001b[0mt_ohcr\u001b[0m \u001b[0;34m=\u001b[0m \u001b[0mopen\u001b[0m\u001b[0;34m(\u001b[0m\u001b[0;34m\"t_ohcr.txt\"\u001b[0m\u001b[0;34m,\u001b[0m \u001b[0;34m\"r\"\u001b[0m\u001b[0;34m)\u001b[0m\u001b[0;34m\u001b[0m\u001b[0;34m\u001b[0m\u001b[0m\n\u001b[1;32m      5\u001b[0m \u001b[0mt_cru\u001b[0m  \u001b[0;34m=\u001b[0m \u001b[0mopen\u001b[0m\u001b[0;34m(\u001b[0m\u001b[0;34m't_cru.txt'\u001b[0m\u001b[0;34m)\u001b[0m\u001b[0;34m\u001b[0m\u001b[0;34m\u001b[0m\u001b[0m\n",
      "\u001b[0;31mFileNotFoundError\u001b[0m: [Errno 2] No such file or directory: 'ts_dic.txt'"
     ]
    }
   ],
   "source": [
    "ts_dic = open(\"ts_dic.txt\", \"r\")\n",
    "llb_new = open(\"llb_new.txt\", \"r\")\n",
    "llb_old = open(\"llb_old.txt\", \"r\")\n",
    "t_ohcr = open(\"t_ohcr.txt\", \"r\")\n",
    "t_cru  = open('t_cru.txt')\n"
   ]
  },
  {
   "cell_type": "code",
   "execution_count": 129,
   "id": "31587ff8",
   "metadata": {},
   "outputs": [
    {
     "data": {
      "text/plain": [
       "17955"
      ]
     },
     "execution_count": 129,
     "metadata": {},
     "output_type": "execute_result"
    }
   ],
   "source": [
    "rd = open(\"SOURCES/txt/raw_dictionary.txt\", \"r\")\n",
    "rd = rd.readlines()\n",
    "rd\n",
    "len(rd)"
   ]
  },
  {
   "cell_type": "code",
   "execution_count": 127,
   "id": "35674029",
   "metadata": {},
   "outputs": [],
   "source": [
    "c_t = []\n",
    "for l in rd:\n",
    "    t = re.search(r'TICUNA',l)\n",
    "    if t is None:\n",
    "        c_t.append(l)\n",
    "\n"
   ]
  },
  {
   "cell_type": "code",
   "execution_count": 130,
   "id": "6c526d92",
   "metadata": {},
   "outputs": [
    {
     "data": {
      "text/plain": [
       "17743"
      ]
     },
     "execution_count": 130,
     "metadata": {},
     "output_type": "execute_result"
    }
   ],
   "source": [
    "len(c_t)"
   ]
  },
  {
   "cell_type": "code",
   "execution_count": 133,
   "id": "9a975c5d",
   "metadata": {},
   "outputs": [],
   "source": [
    "with open('result.txt', 'a') as fp:\n",
    "    fp.write(str(c_t))"
   ]
  },
  {
   "cell_type": "code",
   "execution_count": 67,
   "id": "b4f4efaa",
   "metadata": {},
   "outputs": [],
   "source": [
    "txt_c = []\n",
    "for line in rd:\n",
    "    line = line.strip()\n",
    "    txt_c.append(line)\n",
    "\n"
   ]
  },
  {
   "cell_type": "code",
   "execution_count": 86,
   "id": "79c28b7a",
   "metadata": {},
   "outputs": [],
   "source": [
    "entry = []\n",
    "txt_e = []\n",
    "for i in txt_c:\n",
    "    match = re.search(r'TICUNA',line)\n",
    "    if match:\n",
    "        print(line)\n",
    "    \n",
    "    "
   ]
  },
  {
   "cell_type": "code",
   "execution_count": null,
   "id": "046cd77a",
   "metadata": {},
   "outputs": [],
   "source": []
  },
  {
   "cell_type": "code",
   "execution_count": null,
   "id": "d8f11af3",
   "metadata": {},
   "outputs": [],
   "source": []
  }
 ],
 "metadata": {
  "kernelspec": {
   "display_name": "Python 3 (ipykernel)",
   "language": "python",
   "name": "python3"
  },
  "language_info": {
   "codemirror_mode": {
    "name": "ipython",
    "version": 3
   },
   "file_extension": ".py",
   "mimetype": "text/x-python",
   "name": "python",
   "nbconvert_exporter": "python",
   "pygments_lexer": "ipython3",
   "version": "3.9.7"
  }
 },
 "nbformat": 4,
 "nbformat_minor": 5
}
